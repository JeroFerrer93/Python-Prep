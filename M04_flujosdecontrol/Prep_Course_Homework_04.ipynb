{
 "cells": [
  {
   "attachments": {},
   "cell_type": "markdown",
   "metadata": {},
   "source": [
    "## Flujos de Control"
   ]
  },
  {
   "attachments": {},
   "cell_type": "markdown",
   "metadata": {},
   "source": [
    "1) Crear una variable que contenga un elemento del conjunto de números enteros y luego imprimir por pantalla si es mayor o menor a cero"
   ]
  },
  {
   "cell_type": "code",
   "execution_count": 1,
   "metadata": {},
   "outputs": [
    {
     "name": "stdout",
     "output_type": "stream",
     "text": [
      "El valor es mayor a cero\n"
     ]
    }
   ],
   "source": [
    "x=25\n",
    "if x>0:\n",
    "    print('El valor es mayor a cero')\n",
    "elif x<0:\n",
    "    print('El valor es negativo')\n",
    "else:\n",
    "    print('El valor es cero')"
   ]
  },
  {
   "attachments": {},
   "cell_type": "markdown",
   "metadata": {},
   "source": [
    "2) Crear dos variables y un condicional que informe si son del mismo tipo de dato"
   ]
  },
  {
   "cell_type": "code",
   "execution_count": 2,
   "metadata": {},
   "outputs": [
    {
     "name": "stdout",
     "output_type": "stream",
     "text": [
      "Son de distinto tipo de variable\n"
     ]
    }
   ],
   "source": [
    "nombre='Jero'\n",
    "edad=25\n",
    "if type(nombre)==type(edad):\n",
    "    print('Ambas variables son del mismo tipo')\n",
    "else:\n",
    "    print('Son de distinto tipo de variable')"
   ]
  },
  {
   "attachments": {},
   "cell_type": "markdown",
   "metadata": {},
   "source": [
    "3) Para los valores enteros del 1 al 20, imprimir por pantalla si es par o impar"
   ]
  },
  {
   "cell_type": "code",
   "execution_count": 6,
   "metadata": {},
   "outputs": [
    {
     "name": "stdout",
     "output_type": "stream",
     "text": [
      "1  Es impar\n",
      "2  Es par\n",
      "3  Es impar\n",
      "4  Es par\n",
      "5  Es impar\n",
      "6  Es par\n",
      "7  Es impar\n",
      "8  Es par\n",
      "9  Es impar\n",
      "10  Es par\n",
      "11  Es impar\n",
      "12  Es par\n",
      "13  Es impar\n",
      "14  Es par\n",
      "15  Es impar\n",
      "16  Es par\n",
      "17  Es impar\n",
      "18  Es par\n",
      "19  Es impar\n",
      "20  Es par\n"
     ]
    }
   ],
   "source": [
    "for num in range(1,21):\n",
    "    if num % 2 == 0:\n",
    "        print(num, ' Es par')\n",
    "    else:\n",
    "        print(num, ' Es impar')"
   ]
  },
  {
   "attachments": {},
   "cell_type": "markdown",
   "metadata": {},
   "source": [
    "4) En un ciclo for mostrar para los valores entre 0 y 5 el resultado de elevarlo a la potencia igual a 3"
   ]
  },
  {
   "cell_type": "code",
   "execution_count": 7,
   "metadata": {},
   "outputs": [
    {
     "name": "stdout",
     "output_type": "stream",
     "text": [
      "0\n",
      "1\n",
      "8\n",
      "27\n",
      "64\n",
      "125\n"
     ]
    }
   ],
   "source": [
    "for i in range(0,6):\n",
    "    i=i**3\n",
    "    print(i)"
   ]
  },
  {
   "attachments": {},
   "cell_type": "markdown",
   "metadata": {},
   "source": [
    "5) Crear una variable que contenga un número entero y realizar un ciclo for la misma cantidad de ciclos"
   ]
  },
  {
   "cell_type": "code",
   "execution_count": 10,
   "metadata": {},
   "outputs": [
    {
     "name": "stdout",
     "output_type": "stream",
     "text": [
      "Ciclo 0\n",
      "Ciclo 1\n",
      "Ciclo 2\n",
      "Ciclo 3\n",
      "Ciclo 4\n",
      "Ciclo 5\n",
      "Ciclo 6\n",
      "Ciclo 7\n"
     ]
    }
   ],
   "source": [
    "x=8\n",
    "for i in range(x):\n",
    "    print(f'Ciclo {i}')\n"
   ]
  },
  {
   "attachments": {},
   "cell_type": "markdown",
   "metadata": {},
   "source": [
    "6) Utilizar un ciclo while para realizar el factorial de un número guardado en una variable, sólo si la variable contiene un número entero mayor a 0"
   ]
  },
  {
   "cell_type": "code",
   "execution_count": 15,
   "metadata": {},
   "outputs": [
    {
     "name": "stdout",
     "output_type": "stream",
     "text": [
      "El factorial es 24\n"
     ]
    }
   ],
   "source": [
    "num=4\n",
    "if (num > 0):\n",
    "    factorial = num\n",
    "    while (num > 2):\n",
    "        num = num - 1\n",
    "        factorial = factorial * num\n",
    "    print('El factorial es', factorial)\n",
    "elif num<0:\n",
    "    print('La variable no es mayor a cero')\n",
    "else:\n",
    "    print('La variable no es un entero')"
   ]
  },
  {
   "attachments": {},
   "cell_type": "markdown",
   "metadata": {},
   "source": [
    "7) Crear un ciclo for dentro de un ciclo while"
   ]
  },
  {
   "cell_type": "code",
   "execution_count": 16,
   "metadata": {},
   "outputs": [
    {
     "name": "stdout",
     "output_type": "stream",
     "text": [
      "Inicio del ciclo while con contador igual a 0\n",
      "  Iteración del ciclo for: 0\n",
      "  Iteración del ciclo for: 1\n",
      "  Iteración del ciclo for: 2\n",
      "Inicio del ciclo while con contador igual a 1\n",
      "  Iteración del ciclo for: 0\n",
      "  Iteración del ciclo for: 1\n",
      "  Iteración del ciclo for: 2\n",
      "Inicio del ciclo while con contador igual a 2\n",
      "  Iteración del ciclo for: 0\n",
      "  Iteración del ciclo for: 1\n",
      "  Iteración del ciclo for: 2\n"
     ]
    }
   ],
   "source": [
    "n = 0\n",
    "\n",
    "while n < 3:\n",
    "    print(\"Inicio del ciclo while con contador igual a\", n)\n",
    "    for i in range(3):\n",
    "        print(\"  Iteración del ciclo for:\", i)\n",
    "    \n",
    "    n += 1"
   ]
  },
  {
   "attachments": {},
   "cell_type": "markdown",
   "metadata": {},
   "source": [
    "8) Crear un ciclo while dentro de un ciclo for"
   ]
  },
  {
   "cell_type": "code",
   "execution_count": 18,
   "metadata": {},
   "outputs": [
    {
     "name": "stdout",
     "output_type": "stream",
     "text": [
      "Ciclo While dentro del ciclo For: 1 de 1\n",
      "Ciclo While dentro del ciclo For: 1 de 2\n",
      "Ciclo While dentro del ciclo For: 2 de 2\n",
      "Ciclo While dentro del ciclo For: 1 de 3\n",
      "Ciclo While dentro del ciclo For: 2 de 3\n",
      "Ciclo While dentro del ciclo For: 3 de 3\n",
      "Ciclo While dentro del ciclo For: 1 de 4\n",
      "Ciclo While dentro del ciclo For: 2 de 4\n",
      "Ciclo While dentro del ciclo For: 3 de 4\n",
      "Ciclo While dentro del ciclo For: 4 de 4\n",
      "Ciclo While dentro del ciclo For: 1 de 5\n",
      "Ciclo While dentro del ciclo For: 2 de 5\n",
      "Ciclo While dentro del ciclo For: 3 de 5\n",
      "Ciclo While dentro del ciclo For: 4 de 5\n",
      "Ciclo While dentro del ciclo For: 5 de 5\n"
     ]
    }
   ],
   "source": [
    "for i in range(1, 6):\n",
    "    contador = 1\n",
    "    while contador <= i:\n",
    "        print(f'Ciclo While dentro del ciclo For: {contador} de {i}')\n",
    "        contador += 1\n"
   ]
  },
  {
   "attachments": {},
   "cell_type": "markdown",
   "metadata": {},
   "source": [
    "9) Imprimir los números primos existentes entre 0 y 30"
   ]
  },
  {
   "cell_type": "code",
   "execution_count": 26,
   "metadata": {},
   "outputs": [
    {
     "name": "stdout",
     "output_type": "stream",
     "text": [
      "Números primos del 0 al 30: 2\n",
      "Números primos del 0 al 30: 3\n",
      "Números primos del 0 al 30: 5\n",
      "Números primos del 0 al 30: 7\n",
      "Números primos del 0 al 30: 11\n",
      "Números primos del 0 al 30: 13\n",
      "Números primos del 0 al 30: 17\n",
      "Números primos del 0 al 30: 19\n",
      "Números primos del 0 al 30: 23\n",
      "Números primos del 0 al 30: 29\n"
     ]
    }
   ],
   "source": [
    "numero = 2\n",
    "while numero <= 30:\n",
    "    es_primo = True\n",
    "    divisor = 2\n",
    "    while divisor <= int(numero ** 0.5):\n",
    "        if numero % divisor == 0:\n",
    "            es_primo = False\n",
    "            break\n",
    "        divisor += 1\n",
    "    if es_primo:\n",
    "        print(f'Números primos del 0 al 30: {numero}')\n",
    "    numero += 1"
   ]
  },
  {
   "attachments": {},
   "cell_type": "markdown",
   "metadata": {},
   "source": [
    "10) ¿Se puede mejorar el proceso del punto 9? Utilizar las sentencias break y/ó continue para tal fin"
   ]
  },
  {
   "cell_type": "code",
   "execution_count": 1,
   "metadata": {},
   "outputs": [
    {
     "name": "stdout",
     "output_type": "stream",
     "text": [
      "Número primo del 0 al 30: 2\n",
      "Número primo del 0 al 30: 3\n",
      "Número primo del 0 al 30: 5\n",
      "Número primo del 0 al 30: 7\n",
      "Número primo del 0 al 30: 11\n",
      "Número primo del 0 al 30: 13\n",
      "Número primo del 0 al 30: 17\n",
      "Número primo del 0 al 30: 19\n",
      "Número primo del 0 al 30: 23\n",
      "Número primo del 0 al 30: 29\n"
     ]
    }
   ],
   "source": [
    "for numero in range(2, 31):\n",
    "    for divisor in range(2, int(numero ** 0.5) + 1):\n",
    "        if numero % divisor == 0:\n",
    "            break\n",
    "    else:\n",
    "        print(f'Número primo del 0 al 30: {numero}')\n"
   ]
  },
  {
   "attachments": {},
   "cell_type": "markdown",
   "metadata": {},
   "source": [
    "11) En los puntos 9 y 10, se diseño un código que encuentra números primos y además se lo optimizó. ¿Es posible saber en qué medida se optimizó?"
   ]
  },
  {
   "cell_type": "code",
   "execution_count": 2,
   "metadata": {},
   "outputs": [],
   "source": [
    "# Reduje la cantidad de lineas de codigo para que sea mas facil de leer."
   ]
  },
  {
   "attachments": {},
   "cell_type": "markdown",
   "metadata": {},
   "source": [
    "12) Aplicando continue, armar un ciclo while que solo imprima los valores divisibles por 12, dentro del rango de números de 100 a 300"
   ]
  },
  {
   "cell_type": "code",
   "execution_count": 4,
   "metadata": {},
   "outputs": [
    {
     "name": "stdout",
     "output_type": "stream",
     "text": [
      "Numero divisible por 12> 108\n",
      "Numero divisible por 12> 120\n",
      "Numero divisible por 12> 132\n",
      "Numero divisible por 12> 144\n",
      "Numero divisible por 12> 156\n",
      "Numero divisible por 12> 168\n",
      "Numero divisible por 12> 180\n",
      "Numero divisible por 12> 192\n",
      "Numero divisible por 12> 204\n",
      "Numero divisible por 12> 216\n",
      "Numero divisible por 12> 228\n",
      "Numero divisible por 12> 240\n",
      "Numero divisible por 12> 252\n",
      "Numero divisible por 12> 264\n",
      "Numero divisible por 12> 276\n",
      "Numero divisible por 12> 288\n",
      "Numero divisible por 12> 300\n"
     ]
    }
   ],
   "source": [
    "num=100\n",
    "while num <= 300:\n",
    "    if num % 12 != 0:\n",
    "        num += 1\n",
    "        continue\n",
    "    print(f'Numero divisible por 12> {num}')\n",
    "    num+=1"
   ]
  },
  {
   "attachments": {},
   "cell_type": "markdown",
   "metadata": {},
   "source": [
    "13) Utilizar la función **input()** que permite hacer ingresos por teclado, para encontrar números primos y dar la opción al usario de buscar el siguiente"
   ]
  },
  {
   "cell_type": "code",
   "execution_count": null,
   "metadata": {},
   "outputs": [],
   "source": []
  },
  {
   "attachments": {},
   "cell_type": "markdown",
   "metadata": {},
   "source": [
    "14) Crear un ciclo while que encuentre dentro del rango de 100 a 300 el primer número divisible por 3 y además múltiplo de 6"
   ]
  },
  {
   "cell_type": "code",
   "execution_count": 2,
   "metadata": {},
   "outputs": [
    {
     "name": "stdout",
     "output_type": "stream",
     "text": [
      "El numero es: 102\n"
     ]
    }
   ],
   "source": [
    "x=100\n",
    "while x >= 100 and x<=300:\n",
    "    if (x % 6 == 0):\n",
    "        print(f'El numero es: {x}')\n",
    "        break\n",
    "    x+=1"
   ]
  },
  {
   "cell_type": "code",
   "execution_count": null,
   "metadata": {},
   "outputs": [],
   "source": []
  }
 ],
 "metadata": {
  "interpreter": {
   "hash": "c85384e4cb51c8b72350f3a8712cc8351fdc3955e32a27f9b60c6242ab125f01"
  },
  "kernelspec": {
   "display_name": "Python 3 (ipykernel)",
   "language": "python",
   "name": "python3"
  },
  "language_info": {
   "codemirror_mode": {
    "name": "ipython",
    "version": 3
   },
   "file_extension": ".py",
   "mimetype": "text/x-python",
   "name": "python",
   "nbconvert_exporter": "python",
   "pygments_lexer": "ipython3",
   "version": "3.10.5"
  }
 },
 "nbformat": 4,
 "nbformat_minor": 4
}
