{
 "cells": [
  {
   "attachments": {},
   "cell_type": "markdown",
   "metadata": {},
   "source": [
    "## Funciones"
   ]
  },
  {
   "attachments": {},
   "cell_type": "markdown",
   "metadata": {},
   "source": [
    "1) Crear una función que reciba un número como parámetro y devuelva True si es primo y False si no lo es"
   ]
  },
  {
   "cell_type": "code",
   "execution_count": 4,
   "metadata": {},
   "outputs": [],
   "source": [
    "def num_primo(nro):\n",
    "    es_primo = True  \n",
    "    for i in range(2, nro):  \n",
    "        if nro % i == 0:  \n",
    "            es_primo = False  \n",
    "            break \n",
    "    return es_primo "
   ]
  },
  {
   "attachments": {},
   "cell_type": "markdown",
   "metadata": {},
   "source": [
    "2) Utilizando la función del punto 1, realizar otra función que reciba de parámetro una lista de números y devuelva sólo aquellos que son primos en otra lista"
   ]
  },
  {
   "cell_type": "code",
   "execution_count": 5,
   "metadata": {},
   "outputs": [],
   "source": [
    "def extrae_primos_de_lista(lista):\n",
    "    lista_primos = []  \n",
    "    for elemento in lista: \n",
    "        if num_primo(int(elemento)):  \n",
    "            lista_primos.append(elemento)  \n",
    "    return lista_primos"
   ]
  },
  {
   "cell_type": "code",
   "execution_count": 6,
   "metadata": {},
   "outputs": [
    {
     "data": {
      "text/plain": [
       "[1, 2, 3, 5, 7, 11, 13, 17, 19]"
      ]
     },
     "execution_count": 6,
     "metadata": {},
     "output_type": "execute_result"
    }
   ],
   "source": [
    "lis_completa = [1,2,3,4,5,6,7,8,9,10,11,12,13,14,15,16,17,18,19,20]\n",
    "lis_primos = extrae_primos_de_lista(lis_completa)\n",
    "lis_primos"
   ]
  },
  {
   "attachments": {},
   "cell_type": "markdown",
   "metadata": {},
   "source": [
    "3) Crear una función que al recibir una lista de números, devuelva el que más se repite y cuántas veces lo hace. Si hay más de un \"más repetido\", que devuelva cualquiera"
   ]
  },
  {
   "cell_type": "code",
   "execution_count": 7,
   "metadata": {},
   "outputs": [
    {
     "name": "stdout",
     "output_type": "stream",
     "text": [
      "El número más repetido es: 2 se repite 4 veces.\n"
     ]
    }
   ],
   "source": [
    "lista=[2,5,5,8,1,8,6,4,4,2,7,2,9,2]\n",
    "def max_rep(lista):\n",
    "    conteo = {}\n",
    "    for numero in lista:\n",
    "        if numero in conteo:\n",
    "            conteo[numero] += 1\n",
    "        else:\n",
    "            conteo[numero] = 1\n",
    "\n",
    "    mas_repetido = None\n",
    "    veces_repetido = 0\n",
    "    \n",
    "    for numero, repeticiones in conteo.items():\n",
    "        if repeticiones > veces_repetido:\n",
    "            mas_repetido = numero\n",
    "            veces_repetido = repeticiones\n",
    "    \n",
    "    return mas_repetido, veces_repetido\n",
    "\n",
    "\n",
    "resultado = max_rep(lista)\n",
    "print(\"El número más repetido es:\", resultado[0], \"se repite\", resultado[1], \"veces.\")"
   ]
  },
  {
   "attachments": {},
   "cell_type": "markdown",
   "metadata": {},
   "source": [
    "4) Crear una función que convierta entre grados Celsius, Farenheit y Kelvin<br>\n",
    "Fórmula 1\t: (°C × 9/5) + 32 = °F<br>\n",
    "Fórmula 2\t: °C + 273.15 = °K<br>\n",
    "Debe recibir 3 parámetros: el valor, la medida de orígen y la medida de destino\n"
   ]
  },
  {
   "cell_type": "code",
   "execution_count": 11,
   "metadata": {},
   "outputs": [
    {
     "name": "stdout",
     "output_type": "stream",
     "text": [
      "80 grados Fahrenheit son equivalentes a 26.666666666666668 grados Celsius\n"
     ]
    }
   ],
   "source": [
    "def convertir_temperatura(valor, origen, destino):\n",
    "    if origen == \"Celsius\":\n",
    "        if destino == \"Fahrenheit\":\n",
    "            resultado = (valor * 9/5) + 32\n",
    "        elif destino == \"Kelvin\":\n",
    "            resultado = valor + 273.15\n",
    "        else:\n",
    "            resultado = valor  \n",
    "    elif origen == \"Fahrenheit\":\n",
    "        if destino == \"Celsius\":\n",
    "            resultado = (valor - 32) * 5/9\n",
    "        elif destino == \"Kelvin\":\n",
    "            resultado = (valor - 32) * 5/9 + 273.15\n",
    "        else:\n",
    "            resultado = valor  \n",
    "    elif origen == \"Kelvin\":\n",
    "        if destino == \"Celsius\":\n",
    "            resultado = valor - 273.15\n",
    "        elif destino == \"Fahrenheit\":\n",
    "            resultado = (valor - 273.15) * 9/5 + 32\n",
    "        else:\n",
    "            resultado = valor  \n",
    "    else:\n",
    "        resultado = valor  \n",
    "    \n",
    "    return resultado\n",
    "\n",
    "valor = int(input('Elegir valor: '))\n",
    "origen = input('Elegir entre Celsius, Fahrenheit y Kelvin: ')\n",
    "destino = input('Elegir entre Celsius, Fahrenheit y Kelvin: ')\n",
    "\n",
    "resultado = convertir_temperatura(valor, origen, destino)\n",
    "print(f\"{valor} grados {origen} son equivalentes a {resultado} grados {destino}\")\n",
    "    "
   ]
  },
  {
   "attachments": {},
   "cell_type": "markdown",
   "metadata": {},
   "source": [
    "5) Iterando una lista con los tres valores posibles de temperatura que recibe la función del punto 5, hacer un print para cada combinación de los mismos:"
   ]
  },
  {
   "cell_type": "code",
   "execution_count": 12,
   "metadata": {},
   "outputs": [
    {
     "name": "stdout",
     "output_type": "stream",
     "text": [
      "\n",
      "Para 0 grados Celsius:\n",
      "  - Celsius a Fahrenheit: 32.0\n",
      "  - Celsius a Kelvin: 273.15\n",
      "\n",
      "Para 0 grados Fahrenheit:\n",
      "  - Fahrenheit a Celsius: -17.77777777777778\n",
      "  - Fahrenheit a Kelvin: 255.3722222222222\n",
      "\n",
      "Para 0 grados Kelvin:\n",
      "  - Kelvin a Celsius: -273.15\n",
      "  - Kelvin a Fahrenheit: -459.66999999999996\n",
      "\n",
      "Para 32 grados Celsius:\n",
      "  - Celsius a Fahrenheit: 89.6\n",
      "  - Celsius a Kelvin: 305.15\n",
      "\n",
      "Para 32 grados Fahrenheit:\n",
      "  - Fahrenheit a Celsius: 0.0\n",
      "  - Fahrenheit a Kelvin: 273.15\n",
      "\n",
      "Para 32 grados Kelvin:\n",
      "  - Kelvin a Celsius: -241.14999999999998\n",
      "  - Kelvin a Fahrenheit: -402.07\n",
      "\n",
      "Para 100 grados Celsius:\n",
      "  - Celsius a Fahrenheit: 212.0\n",
      "  - Celsius a Kelvin: 373.15\n",
      "\n",
      "Para 100 grados Fahrenheit:\n",
      "  - Fahrenheit a Celsius: 37.77777777777778\n",
      "  - Fahrenheit a Kelvin: 310.92777777777775\n",
      "\n",
      "Para 100 grados Kelvin:\n",
      "  - Kelvin a Celsius: -173.14999999999998\n",
      "  - Kelvin a Fahrenheit: -279.66999999999996\n"
     ]
    }
   ],
   "source": [
    "valores_temperatura = [0, 32, 100]  # Lista de valores de temperatura a probar\n",
    "\n",
    "for valor in valores_temperatura:\n",
    "    print(f\"\\nPara {valor} grados Celsius:\")\n",
    "    print(\"  - Celsius a Fahrenheit:\", convertir_temperatura(valor, \"Celsius\", \"Fahrenheit\"))\n",
    "    print(\"  - Celsius a Kelvin:\", convertir_temperatura(valor, \"Celsius\", \"Kelvin\"))\n",
    "\n",
    "    print(f\"\\nPara {valor} grados Fahrenheit:\")\n",
    "    print(\"  - Fahrenheit a Celsius:\", convertir_temperatura(valor, \"Fahrenheit\", \"Celsius\"))\n",
    "    print(\"  - Fahrenheit a Kelvin:\", convertir_temperatura(valor, \"Fahrenheit\", \"Kelvin\"))\n",
    "\n",
    "    print(f\"\\nPara {valor} grados Kelvin:\")\n",
    "    print(\"  - Kelvin a Celsius:\", convertir_temperatura(valor, \"Kelvin\", \"Celsius\"))\n",
    "    print(\"  - Kelvin a Fahrenheit:\", convertir_temperatura(valor, \"Kelvin\", \"Fahrenheit\"))\n"
   ]
  },
  {
   "attachments": {},
   "cell_type": "markdown",
   "metadata": {},
   "source": [
    "6) Armar una función que devuelva el factorial de un número. Tener en cuenta que el usuario puede equivocarse y enviar de parámetro un número no entero o negativo"
   ]
  },
  {
   "cell_type": "code",
   "execution_count": 15,
   "metadata": {},
   "outputs": [
    {
     "name": "stdout",
     "output_type": "stream",
     "text": [
      "El factorial de 3 es: 6\n"
     ]
    }
   ],
   "source": [
    "def factorial(numero):\n",
    "    if not isinstance(numero, int) or numero < 0:\n",
    "        return None  \n",
    "    resultado = 1\n",
    "    for i in range(1, numero + 1):\n",
    "        resultado *= i\n",
    "    return resultado\n",
    "\n",
    "numero = int(input(\"Ingrese un número entero positivo para calcular su factorial: \"))\n",
    "resultado = factorial(numero)\n",
    "if resultado is not None:\n",
    "    print(f\"El factorial de {numero} es: {resultado}\")\n",
    "else:\n",
    "    print(\"El número ingresado no es válido para calcular su factorial.\")\n"
   ]
  },
  {
   "cell_type": "code",
   "execution_count": null,
   "metadata": {},
   "outputs": [],
   "source": []
  }
 ],
 "metadata": {
  "interpreter": {
   "hash": "c85384e4cb51c8b72350f3a8712cc8351fdc3955e32a27f9b60c6242ab125f01"
  },
  "kernelspec": {
   "display_name": "Python 3 (ipykernel)",
   "language": "python",
   "name": "python3"
  },
  "language_info": {
   "codemirror_mode": {
    "name": "ipython",
    "version": 3
   },
   "file_extension": ".py",
   "mimetype": "text/x-python",
   "name": "python",
   "nbconvert_exporter": "python",
   "pygments_lexer": "ipython3",
   "version": "3.10.5"
  }
 },
 "nbformat": 4,
 "nbformat_minor": 4
}
